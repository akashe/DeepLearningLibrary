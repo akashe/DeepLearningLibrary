{
 "cells": [
  {
   "cell_type": "markdown",
   "metadata": {},
   "source": [
    "# Policy Gradient Methods "
   ]
  },
  {
   "cell_type": "markdown",
   "metadata": {},
   "source": [
    "Gradient Descent/Ascent is a great asset. If you have an approximation model consisting some parameters $\\theta$ and if you can formulate an objective, lets say 'J', to maximize or minimize then you can update the parameters with the gradient of J wrt to $\\theta$. In value approximation methods we try approximate *V*$(s)$ or *Q*$(s,a)$ and we use a policy like $\\epsilon$-greedy for control. But sometimes its better to approximate the policy itself. For example in cases with continous action space or when we need a stochastic policy.\n",
    "\n",
    "Our gradients depend on the choice of objective function. I will derive the gradients for two approaches:\n",
    "1. average reward per time step\n",
    "2. total reward in a trajectory\n",
    "\n",
    "### Average reward per time:\n",
    "\n",
    "\\begin{equation} \\mathcal{J}(\\theta) = \\mathbb{E}_{\\pi_\\theta} [r] = \\sum_{s \\in \\mathcal{S}} d_{\\pi_\\theta}(s) \\sum_{a \\in \\mathcal{A}} \\pi(a \\vert s; \\theta) R(s, a) \\end{equation}\n"
   ]
  },
  {
   "cell_type": "markdown",
   "metadata": {},
   "source": [
    "### Resources \n",
    "* [Lecture Video](https://www.youtube.com/watch?v=KHZVXao4qXs&list=PLqYmG7hTraZDM-OYHWgPebj2MfCFzFObQ&index=7)\n",
    "* [Lecture Slides](https://www.davidsilver.uk/wp-content/uploads/2020/03/pg.pdf)\n",
    "* [SpinningUp RL for trajectory viewpoint](https://spinningup.openai.com/en/latest/spinningup/rl_intro3.html)\n",
    "* Policy gradient using Function Approximation:\n",
    "    * [Original Paper](https://papers.nips.cc/paper/1713-policy-gradient-methods-for-reinforcement-learning-with-function-approximation.pdf)\n",
    "    * [Video for further understanding](https://www.youtube.com/watch?v=X6yCRaQa5FE&t=1081s)\n",
    "\n",
    "\n",
    "\n"
   ]
  }
 ],
 "metadata": {
  "kernelspec": {
   "display_name": "Python 3",
   "language": "python",
   "name": "python3"
  },
  "language_info": {
   "codemirror_mode": {
    "name": "ipython",
    "version": 3
   },
   "file_extension": ".py",
   "mimetype": "text/x-python",
   "name": "python",
   "nbconvert_exporter": "python",
   "pygments_lexer": "ipython3",
   "version": "3.6.10"
  }
 },
 "nbformat": 4,
 "nbformat_minor": 4
}
