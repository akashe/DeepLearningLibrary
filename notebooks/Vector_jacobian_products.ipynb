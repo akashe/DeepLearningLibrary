{
 "cells": [
  {
   "cell_type": "code",
   "execution_count": 1,
   "metadata": {},
   "outputs": [
    {
     "data": {
      "text/plain": [
       "'\\nChecking Vector Jacobian Products For a simple neural net\\n'"
      ]
     },
     "execution_count": 1,
     "metadata": {},
     "output_type": "execute_result"
    }
   ],
   "source": [
    "'''\n",
    "Checking Vector Jacobian Products For a simple neural net\n",
    "'''"
   ]
  },
  {
   "cell_type": "code",
   "execution_count": 2,
   "metadata": {},
   "outputs": [],
   "source": [
    "import torch\n",
    "import torch.nn.functional as F\n",
    "from torch.autograd.functional import vjp"
   ]
  },
  {
   "cell_type": "code",
   "execution_count": 3,
   "metadata": {},
   "outputs": [],
   "source": [
    "# Later increase dimensions to include batches\n",
    "\n",
    "#FORWARD PASS\n",
    "\n",
    "x = torch.randn(3,1,dtype=torch.float)"
   ]
  },
  {
   "cell_type": "code",
   "execution_count": 4,
   "metadata": {},
   "outputs": [],
   "source": [
    "W1 = torch.randn(4,3,dtype= torch.float)\n",
    "b1 = torch.randn(4,1,dtype= torch.float)"
   ]
  },
  {
   "cell_type": "code",
   "execution_count": 5,
   "metadata": {},
   "outputs": [
    {
     "name": "stdout",
     "output_type": "stream",
     "text": [
      "tensor([[ 1.0209],\n",
      "        [-2.6919],\n",
      "        [-2.0171],\n",
      "        [ 0.6815]])\n"
     ]
    }
   ],
   "source": [
    "print(W1.mm(x)+b1)"
   ]
  },
  {
   "cell_type": "code",
   "execution_count": 6,
   "metadata": {},
   "outputs": [],
   "source": [
    "z = W1.mm(x)+b1"
   ]
  },
  {
   "cell_type": "code",
   "execution_count": 7,
   "metadata": {},
   "outputs": [],
   "source": [
    "h = F.relu(z)"
   ]
  },
  {
   "cell_type": "code",
   "execution_count": 8,
   "metadata": {},
   "outputs": [
    {
     "data": {
      "text/plain": [
       "tensor([-0.7647,  1.8457])"
      ]
     },
     "execution_count": 8,
     "metadata": {},
     "output_type": "execute_result"
    }
   ],
   "source": [
    "W2 = torch.randn(2,4,dtype= torch.float)\n",
    "b2 = torch.randn(2,1,dtype= torch.float)\n",
    "y = W2.mm(h) + b2\n",
    "y.squeeze(-1)"
   ]
  },
  {
   "cell_type": "code",
   "execution_count": 9,
   "metadata": {},
   "outputs": [],
   "source": [
    "t = torch.ones(2)"
   ]
  },
  {
   "cell_type": "code",
   "execution_count": 10,
   "metadata": {},
   "outputs": [
    {
     "name": "stderr",
     "output_type": "stream",
     "text": [
      "/home/akashe/anaconda3/envs/latest_pytorch/lib/python3.6/site-packages/ipykernel_launcher.py:1: UserWarning: Using a target size (torch.Size([2, 1])) that is different to the input size (torch.Size([2])). This will likely lead to incorrect results due to broadcasting. Please ensure they have the same size.\n",
      "  \"\"\"Entry point for launching an IPython kernel.\n"
     ]
    }
   ],
   "source": [
    "L = F.mse_loss(t,y)"
   ]
  },
  {
   "cell_type": "code",
   "execution_count": 11,
   "metadata": {},
   "outputs": [
    {
     "name": "stdout",
     "output_type": "stream",
     "text": [
      "tensor(1.9146)\n"
     ]
    }
   ],
   "source": [
    "print(L)"
   ]
  },
  {
   "cell_type": "code",
   "execution_count": 12,
   "metadata": {},
   "outputs": [],
   "source": [
    "L_bar = 1"
   ]
  },
  {
   "cell_type": "code",
   "execution_count": 13,
   "metadata": {},
   "outputs": [
    {
     "name": "stdout",
     "output_type": "stream",
     "text": [
      "tensor([[-1.7647],\n",
      "        [ 0.8457]])\n"
     ]
    },
    {
     "name": "stderr",
     "output_type": "stream",
     "text": [
      "/home/akashe/anaconda3/envs/latest_pytorch/lib/python3.6/site-packages/torch/autograd/functional.py:251: UserWarning: Using a target size (torch.Size([2])) that is different to the input size (torch.Size([2, 1])). This will likely lead to incorrect results due to broadcasting. Please ensure they have the same size.\n",
      "  outputs = func(*inputs)\n"
     ]
    }
   ],
   "source": [
    "y_bar = vjp(func=F.mse_loss,inputs=(y,t))[1][0]\n",
    "print(y_bar)"
   ]
  },
  {
   "cell_type": "code",
   "execution_count": 14,
   "metadata": {},
   "outputs": [
    {
     "name": "stdout",
     "output_type": "stream",
     "text": [
      "(tensor(1.9146), (tensor([[-1.7647],\n",
      "        [ 0.8457]]), tensor([0.4595, 0.4595])))\n"
     ]
    }
   ],
   "source": [
    "print(vjp(func=F.mse_loss,inputs=(y,t)))"
   ]
  },
  {
   "cell_type": "code",
   "execution_count": 15,
   "metadata": {},
   "outputs": [
    {
     "data": {
      "text/plain": [
       "'\\nActually here derivative of t is wrong. It shud just be negative of y derivatives. It comes out right in case \\nof batch products\\n'"
      ]
     },
     "execution_count": 15,
     "metadata": {},
     "output_type": "execute_result"
    }
   ],
   "source": [
    "'''\n",
    "Actually here derivative of t is wrong. It shud just be negative of y derivatives. It comes out right in case \n",
    "of batch products\n",
    "'''"
   ]
  },
  {
   "cell_type": "code",
   "execution_count": 16,
   "metadata": {},
   "outputs": [
    {
     "name": "stdout",
     "output_type": "stream",
     "text": [
      "tensor([[-0.7647],\n",
      "        [ 1.8457]])\n",
      "(tensor([[-1.8015, -0.0000, -0.0000, -1.2026],\n",
      "        [ 0.8634,  0.0000,  0.0000,  0.5764]]), tensor([[4.5251],\n",
      "        [4.0231],\n",
      "        [0.2786],\n",
      "        [2.2719]]), tensor([[-1.7647],\n",
      "        [ 0.8457]]))\n"
     ]
    }
   ],
   "source": [
    "def affine(W,h,b):\n",
    "    return W.mm(h)+ b\n",
    "print(vjp(func=affine,inputs=(W2,h,b2),v = y_bar)[0])\n",
    "print(vjp(func=affine,inputs=(W2,h,b2),v = y_bar)[1])"
   ]
  },
  {
   "cell_type": "code",
   "execution_count": 17,
   "metadata": {},
   "outputs": [
    {
     "name": "stdout",
     "output_type": "stream",
     "text": [
      "tensor([[1.0209],\n",
      "        [0.0000],\n",
      "        [0.0000],\n",
      "        [0.6815]])\n"
     ]
    }
   ],
   "source": [
    "print(h)"
   ]
  },
  {
   "cell_type": "code",
   "execution_count": 18,
   "metadata": {},
   "outputs": [
    {
     "name": "stdout",
     "output_type": "stream",
     "text": [
      "(tensor([[1.0209],\n",
      "        [0.0000],\n",
      "        [0.0000],\n",
      "        [0.6815]]), tensor([[4.5251],\n",
      "        [0.0000],\n",
      "        [0.0000],\n",
      "        [2.2719]]))\n"
     ]
    }
   ],
   "source": [
    "h_bar = vjp(func=affine,inputs=(W2,h,b2),v = y_bar)[1][1]\n",
    "z_bar = vjp(func= F.relu, inputs= z,v = h_bar)\n",
    "print(z_bar)"
   ]
  },
  {
   "cell_type": "code",
   "execution_count": 19,
   "metadata": {},
   "outputs": [
    {
     "data": {
      "text/plain": [
       "'\\nDimensions and values of backward gradients correct. Only problem is ouput of func is calculated twice once in\\nforward pass and second in vjp. I will also have to take care of not updating variables untill both forward and \\nbackward passes are done.\\n\\nNow trying a smaller network with batch size\\n'"
      ]
     },
     "execution_count": 19,
     "metadata": {},
     "output_type": "execute_result"
    }
   ],
   "source": [
    "'''\n",
    "Dimensions and values of backward gradients correct. Only problem is ouput of func is calculated twice once in\n",
    "forward pass and second in vjp. I will also have to take care of not updating variables untill both forward and \n",
    "backward passes are done.\n",
    "\n",
    "Now trying a smaller network with batch size\n",
    "'''"
   ]
  },
  {
   "cell_type": "code",
   "execution_count": 20,
   "metadata": {},
   "outputs": [],
   "source": [
    "batch_size = 10\n",
    "\n",
    "x_ = torch.randn([batch_size,3,10],dtype=torch.float)\n",
    "W_ = torch.randn([10,3],dtype= torch.float)\n",
    "b_ = torch.randn([10,3,3], dtype = torch.float)\n",
    "\n",
    "#torch.mm() works only for 2D matrices\n",
    "#torch.matmul does batchwise multiplication if second tensor's dim > 2"
   ]
  },
  {
   "cell_type": "code",
   "execution_count": 21,
   "metadata": {},
   "outputs": [
    {
     "name": "stdout",
     "output_type": "stream",
     "text": [
      "tensor([[ 1.0209],\n",
      "        [-2.6919],\n",
      "        [-2.0171],\n",
      "        [ 0.6815]])\n"
     ]
    }
   ],
   "source": [
    "z_ = x_.matmul(W_) + b_ \n",
    "print(z)"
   ]
  },
  {
   "cell_type": "code",
   "execution_count": 22,
   "metadata": {},
   "outputs": [
    {
     "name": "stdout",
     "output_type": "stream",
     "text": [
      "tensor([[[0.0000, 0.0000, 0.0000],\n",
      "         [0.0000, 0.0000, 0.0000],\n",
      "         [0.3719, 3.5614, 0.0000]],\n",
      "\n",
      "        [[0.0000, 0.0000, 0.0000],\n",
      "         [0.0000, 0.0000, 5.2051],\n",
      "         [0.0000, 0.0000, 0.0000]],\n",
      "\n",
      "        [[0.0000, 0.3510, 7.5721],\n",
      "         [0.5425, 3.8101, 0.0000],\n",
      "         [3.2170, 4.5491, 0.0000]],\n",
      "\n",
      "        [[5.4406, 0.0671, 1.7786],\n",
      "         [0.0000, 0.0000, 2.6822],\n",
      "         [1.7786, 0.0000, 2.8287]],\n",
      "\n",
      "        [[0.0000, 0.0000, 0.0000],\n",
      "         [2.3336, 0.3413, 0.0000],\n",
      "         [0.0000, 0.0000, 0.0000]],\n",
      "\n",
      "        [[1.1211, 0.0000, 4.3627],\n",
      "         [0.6245, 0.0000, 3.5186],\n",
      "         [2.4213, 0.0000, 0.0000]],\n",
      "\n",
      "        [[3.9692, 1.4611, 0.8233],\n",
      "         [3.6343, 0.0000, 0.0000],\n",
      "         [0.0000, 0.0000, 0.0000]],\n",
      "\n",
      "        [[0.0000, 1.0428, 0.1825],\n",
      "         [0.9822, 5.5571, 7.5583],\n",
      "         [0.3741, 0.0000, 1.4823]],\n",
      "\n",
      "        [[1.7012, 0.0000, 3.3715],\n",
      "         [0.6248, 0.0000, 9.2199],\n",
      "         [0.4672, 0.0000, 0.0000]],\n",
      "\n",
      "        [[0.0000, 0.0000, 6.4885],\n",
      "         [4.2051, 1.7836, 2.1741],\n",
      "         [0.0000, 0.0000, 1.9395]]])\n"
     ]
    }
   ],
   "source": [
    "y_ = F.relu(z_)\n",
    "print(y_)"
   ]
  },
  {
   "cell_type": "code",
   "execution_count": 23,
   "metadata": {},
   "outputs": [],
   "source": [
    "t_ = torch.ones([10,3,3])"
   ]
  },
  {
   "cell_type": "code",
   "execution_count": 24,
   "metadata": {},
   "outputs": [],
   "source": [
    "L_ = F.mse_loss(y_,t_)"
   ]
  },
  {
   "cell_type": "code",
   "execution_count": 25,
   "metadata": {},
   "outputs": [
    {
     "name": "stdout",
     "output_type": "stream",
     "text": [
      "(tensor(4.3259), (tensor([[[-0.0222, -0.0222, -0.0222],\n",
      "         [-0.0222, -0.0222, -0.0222],\n",
      "         [-0.0140,  0.0569, -0.0222]],\n",
      "\n",
      "        [[-0.0222, -0.0222, -0.0222],\n",
      "         [-0.0222, -0.0222,  0.0934],\n",
      "         [-0.0222, -0.0222, -0.0222]],\n",
      "\n",
      "        [[-0.0222, -0.0144,  0.1460],\n",
      "         [-0.0102,  0.0624, -0.0222],\n",
      "         [ 0.0493,  0.0789, -0.0222]],\n",
      "\n",
      "        [[ 0.0987, -0.0207,  0.0173],\n",
      "         [-0.0222, -0.0222,  0.0374],\n",
      "         [ 0.0173, -0.0222,  0.0406]],\n",
      "\n",
      "        [[-0.0222, -0.0222, -0.0222],\n",
      "         [ 0.0296, -0.0146, -0.0222],\n",
      "         [-0.0222, -0.0222, -0.0222]],\n",
      "\n",
      "        [[ 0.0027, -0.0222,  0.0747],\n",
      "         [-0.0083, -0.0222,  0.0560],\n",
      "         [ 0.0316, -0.0222, -0.0222]],\n",
      "\n",
      "        [[ 0.0660,  0.0102, -0.0039],\n",
      "         [ 0.0585, -0.0222, -0.0222],\n",
      "         [-0.0222, -0.0222, -0.0222]],\n",
      "\n",
      "        [[-0.0222,  0.0010, -0.0182],\n",
      "         [-0.0004,  0.1013,  0.1457],\n",
      "         [-0.0139, -0.0222,  0.0107]],\n",
      "\n",
      "        [[ 0.0156, -0.0222,  0.0527],\n",
      "         [-0.0083, -0.0222,  0.1827],\n",
      "         [-0.0118, -0.0222, -0.0222]],\n",
      "\n",
      "        [[-0.0222, -0.0222,  0.1220],\n",
      "         [ 0.0712,  0.0174,  0.0261],\n",
      "         [-0.0222, -0.0222,  0.0209]]]), tensor([[[ 0.0222,  0.0222,  0.0222],\n",
      "         [ 0.0222,  0.0222,  0.0222],\n",
      "         [ 0.0140, -0.0569,  0.0222]],\n",
      "\n",
      "        [[ 0.0222,  0.0222,  0.0222],\n",
      "         [ 0.0222,  0.0222, -0.0934],\n",
      "         [ 0.0222,  0.0222,  0.0222]],\n",
      "\n",
      "        [[ 0.0222,  0.0144, -0.1460],\n",
      "         [ 0.0102, -0.0624,  0.0222],\n",
      "         [-0.0493, -0.0789,  0.0222]],\n",
      "\n",
      "        [[-0.0987,  0.0207, -0.0173],\n",
      "         [ 0.0222,  0.0222, -0.0374],\n",
      "         [-0.0173,  0.0222, -0.0406]],\n",
      "\n",
      "        [[ 0.0222,  0.0222,  0.0222],\n",
      "         [-0.0296,  0.0146,  0.0222],\n",
      "         [ 0.0222,  0.0222,  0.0222]],\n",
      "\n",
      "        [[-0.0027,  0.0222, -0.0747],\n",
      "         [ 0.0083,  0.0222, -0.0560],\n",
      "         [-0.0316,  0.0222,  0.0222]],\n",
      "\n",
      "        [[-0.0660, -0.0102,  0.0039],\n",
      "         [-0.0585,  0.0222,  0.0222],\n",
      "         [ 0.0222,  0.0222,  0.0222]],\n",
      "\n",
      "        [[ 0.0222, -0.0010,  0.0182],\n",
      "         [ 0.0004, -0.1013, -0.1457],\n",
      "         [ 0.0139,  0.0222, -0.0107]],\n",
      "\n",
      "        [[-0.0156,  0.0222, -0.0527],\n",
      "         [ 0.0083,  0.0222, -0.1827],\n",
      "         [ 0.0118,  0.0222,  0.0222]],\n",
      "\n",
      "        [[ 0.0222,  0.0222, -0.1220],\n",
      "         [-0.0712, -0.0174, -0.0261],\n",
      "         [ 0.0222,  0.0222, -0.0209]]])))\n"
     ]
    }
   ],
   "source": [
    "print(vjp(func = F.mse_loss,inputs = (y_,t_)))\n",
    "#y_bar_ = vjp(func = F.mse_loss,inputs = (y_,t_))[1][0]\n",
    "#print(y_bar_)\n",
    "#print(y_bar_.size())"
   ]
  },
  {
   "cell_type": "code",
   "execution_count": 26,
   "metadata": {},
   "outputs": [
    {
     "name": "stdout",
     "output_type": "stream",
     "text": [
      "(tensor(2.5331), (tensor([[-0.0288,  0.0748, -0.0235,  0.0174,  0.0370,  0.0179,  0.0535],\n",
      "        [-0.0209,  0.0503,  0.0575, -0.0254,  0.0442,  0.0181,  0.1107],\n",
      "        [ 0.0062,  0.0140,  0.0040, -0.0078,  0.0539, -0.0180,  0.0410],\n",
      "        [ 0.0026,  0.0352, -0.0010,  0.0587,  0.0151, -0.0267, -0.0062],\n",
      "        [ 0.0227, -0.0108,  0.0868, -0.0336,  0.0287,  0.0240,  0.0232],\n",
      "        [ 0.0447, -0.0520, -0.0099,  0.0314, -0.0373,  0.0443,  0.0257],\n",
      "        [ 0.0605,  0.1180,  0.0655,  0.0210,  0.0165,  0.1052,  0.0367],\n",
      "        [-0.0136,  0.0263,  0.1437,  0.0613, -0.0089, -0.0297,  0.0452],\n",
      "        [ 0.0203, -0.0213, -0.0101,  0.0088, -0.0206,  0.0607,  0.0984],\n",
      "        [-0.0157, -0.0199,  0.0145,  0.0085, -0.0081,  0.0183,  0.0083]]), tensor([[ 0.0288, -0.0748,  0.0235, -0.0174, -0.0370, -0.0179, -0.0535],\n",
      "        [ 0.0209, -0.0503, -0.0575,  0.0254, -0.0442, -0.0181, -0.1107],\n",
      "        [-0.0062, -0.0140, -0.0040,  0.0078, -0.0539,  0.0180, -0.0410],\n",
      "        [-0.0026, -0.0352,  0.0010, -0.0587, -0.0151,  0.0267,  0.0062],\n",
      "        [-0.0227,  0.0108, -0.0868,  0.0336, -0.0287, -0.0240, -0.0232],\n",
      "        [-0.0447,  0.0520,  0.0099, -0.0314,  0.0373, -0.0443, -0.0257],\n",
      "        [-0.0605, -0.1180, -0.0655, -0.0210, -0.0165, -0.1052, -0.0367],\n",
      "        [ 0.0136, -0.0263, -0.1437, -0.0613,  0.0089,  0.0297, -0.0452],\n",
      "        [-0.0203,  0.0213,  0.0101, -0.0088,  0.0206, -0.0607, -0.0984],\n",
      "        [ 0.0157,  0.0199, -0.0145, -0.0085,  0.0081, -0.0183, -0.0083]])))\n"
     ]
    }
   ],
   "source": [
    "# trying with 7 final output units\n",
    "\n",
    "_x = torch.randn([10,3],dtype= torch.float)\n",
    "_W = torch.randn([3,7],dtype= torch.float)\n",
    "_b = torch.randn([10,7], dtype = torch.float)\n",
    "\n",
    "_z = _x.matmul(_W) + _b\n",
    "_y = F.relu(_z)\n",
    "_t = torch.randn([10,7], dtype= torch.float)\n",
    "\n",
    "_y_bar = vjp(F.mse_loss,(_y,_t))\n",
    "print(_y_bar)\n",
    "\n",
    "#gradients are correct"
   ]
  },
  {
   "cell_type": "code",
   "execution_count": 27,
   "metadata": {},
   "outputs": [
    {
     "name": "stdout",
     "output_type": "stream",
     "text": [
      "(tensor(1.0808), (tensor([[-0.7681],\n",
      "        [-0.7681]]), tensor([1.4687, 0.0675])))\n"
     ]
    }
   ],
   "source": [
    "_x = torch.randn([2,3],dtype= torch.float)\n",
    "_W = torch.randn([3,1],dtype= torch.float)\n",
    "_b = torch.randn([2,1], dtype = torch.float)\n",
    "\n",
    "_z = _x.matmul(_W) + _b\n",
    "_y = F.relu(_z)\n",
    "_t = torch.randn(2, dtype= torch.float) #Fail\n",
    "#_t = torch.randn([2,1], dtype= torch.float) #Pass . With exact shape it passes\n",
    "\n",
    "_y_bar = vjp(F.mse_loss,(_y,_t))\n",
    "print(_y_bar)\n"
   ]
  },
  {
   "cell_type": "code",
   "execution_count": 37,
   "metadata": {},
   "outputs": [
    {
     "name": "stdout",
     "output_type": "stream",
     "text": [
      "tensor([-0.1756,  0.4214], requires_grad=True)\n",
      "tensor([[0.0640],\n",
      "        [0.1851]], grad_fn=<ReluBackward0>)\n",
      "tensor([-0.3001,  0.2968])\n",
      "tensor([[-0.0589],\n",
      "        [ 0.0622]])\n"
     ]
    },
    {
     "name": "stderr",
     "output_type": "stream",
     "text": [
      "/home/akashe/anaconda3/envs/latest_pytorch/lib/python3.6/site-packages/ipykernel_launcher.py:25: UserWarning: Using a target size (torch.Size([2])) that is different to the input size (torch.Size([2, 1])). This will likely lead to incorrect results due to broadcasting. Please ensure they have the same size.\n"
     ]
    }
   ],
   "source": [
    "'''\n",
    "Alright I figured out the problem. when the shape of target variables is exactly same as to input then the gradients\n",
    "come out right. but lets say if the shape of target is [2] and input is [2,1] then gradients arent correct because\n",
    "there is another operation involved in the middle for reshaping.\n",
    "\n",
    "I WILL HAVE TO BE VERY CAREFUL WITH SHAPES COZ broadcasting CHANGES GRADIENT when used for calculating loss in \n",
    "MSE as mentioned in the user warning..so, TARGET SHUD ALWAYS BE OF SAME DIMENSION \n",
    "ALSO, VJP ONLY TAKES TENSORS AS INPUT\n",
    "\n",
    "Actually lets check the gradients using backward()\n",
    "'''\n",
    "\n",
    "#x = torch.rand(2)\n",
    "#print(vjp(torch.reshape,(x,(-1*torch.ones(1)).data)))\n",
    "\n",
    "_x = torch.randn([2,3],dtype= torch.float,requires_grad = True)\n",
    "_W = torch.randn([3,1],dtype= torch.float, requires_grad = True)\n",
    "_b = torch.randn([2,1], dtype = torch.float, requires_grad = True)\n",
    "\n",
    "_z = _x.matmul(_W) + _b\n",
    "_y = F.relu(_z)\n",
    "_y.retain_grad()\n",
    "_t = torch.randn(2,requires_grad=True) # Pass only with exact shape [2,1]\n",
    "\n",
    "\n",
    "_loss = F.mse_loss(_y,_t)\n",
    "_loss.backward()\n",
    "\n",
    "print(_t)\n",
    "print(_y)\n",
    "\n",
    "print(_t.grad)\n",
    "print(_y.grad)\n"
   ]
  },
  {
   "cell_type": "code",
   "execution_count": 44,
   "metadata": {},
   "outputs": [
    {
     "name": "stdout",
     "output_type": "stream",
     "text": [
      "(tensor(2.4084), (tensor([[-0.1140],\n",
      "        [ 2.1917]]), tensor([[ 0.1140],\n",
      "        [-2.1917]]), tensor([[0.],\n",
      "        [0.]])))\n"
     ]
    }
   ],
   "source": [
    "_x = torch.randn([2,3],dtype= torch.float)\n",
    "_W = torch.randn([3,1],dtype= torch.float)\n",
    "_b = torch.randn([2,1], dtype = torch.float)\n",
    "\n",
    "_z = _x.matmul(_W) + _b\n",
    "_y = F.relu(_z)\n",
    "_t = torch.randn([2,1], dtype= torch.float)\n",
    "_r = torch.randn([2,1], dtype= torch.float)\n",
    "\n",
    "def loss(y,t,r):\n",
    "    return torch.sum(torch.mul((y-t),(y-t)))/len(y)\n",
    "\n",
    "_y_bar = vjp(func=loss,inputs=(_y,_t,_r))\n",
    "print(_y_bar)"
   ]
  },
  {
   "cell_type": "code",
   "execution_count": null,
   "metadata": {},
   "outputs": [],
   "source": []
  }
 ],
 "metadata": {
  "kernelspec": {
   "display_name": "Python 3",
   "language": "python",
   "name": "python3"
  },
  "language_info": {
   "codemirror_mode": {
    "name": "ipython",
    "version": 3
   },
   "file_extension": ".py",
   "mimetype": "text/x-python",
   "name": "python",
   "nbconvert_exporter": "python",
   "pygments_lexer": "ipython3",
   "version": "3.6.10"
  }
 },
 "nbformat": 4,
 "nbformat_minor": 4
}
